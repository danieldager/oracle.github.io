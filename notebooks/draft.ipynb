{
 "cells": [
  {
   "cell_type": "code",
   "execution_count": 1,
   "metadata": {},
   "outputs": [],
   "source": [
    "import os, sys\n",
    "import matplotlib.pyplot as plt\n",
    "\n",
    "for module in ['actions', 'models']:\n",
    "    path = os.path.join(os.getcwd(), '..', module)\n",
    "    sys.path.append(os.path.abspath(path))\n",
    "\n",
    "from model4 import LSTM, train\n",
    "from load_data import load_data\n",
    "from inference import run_inference\n",
    "\n",
    "_, _, test_data = load_data()"
   ]
  },
  {
   "cell_type": "markdown",
   "metadata": {},
   "source": [
    "### Inference"
   ]
  },
  {
   "cell_type": "code",
   "execution_count": 7,
   "metadata": {},
   "outputs": [
    {
     "name": "stdout",
     "output_type": "stream",
     "text": [
      "\n",
      "Model 0521-2327\n",
      "\n",
      "{'batch_size': 100,\n",
      " 'hidden_size': 30,\n",
      " 'learning_rate': 0.01,\n",
      " 'num_epochs': 1,\n",
      " 'num_stacked_layers': 2}\n",
      "\n",
      "\n",
      "trial 1 accuracy: 60.10%\n",
      "trial 2 accuracy: 55.43%\n",
      "trial 3 accuracy: 55.36%\n",
      "trial 4 accuracy: 68.40%\n",
      "trial 5 accuracy: 66.19%\n",
      "trial 6 accuracy: 67.71%\n",
      "trial 7 accuracy: 64.73%\n",
      "trial 8 accuracy: 53.28%\n",
      "trial 9 accuracy: 59.12%\n",
      "\n",
      "Model 0521-2327 accuracy: 61.15%\n",
      "\n",
      "\n",
      "\n",
      "Model 0523-0058\n",
      "\n",
      "{'batch_size': 100,\n",
      " 'hidden_size': 50,\n",
      " 'learning_rate': 0.01,\n",
      " 'num_epochs': 1,\n",
      " 'num_stacked_layers': 1}\n",
      "\n",
      "\n",
      "trial 1 accuracy: 50.78%\n",
      "trial 2 accuracy: 57.75%\n",
      "trial 3 accuracy: 59.20%\n",
      "trial 4 accuracy: 59.43%\n",
      "trial 5 accuracy: 64.75%\n",
      "trial 6 accuracy: 64.13%\n",
      "trial 7 accuracy: 58.93%\n",
      "trial 8 accuracy: 55.98%\n",
      "trial 9 accuracy: 58.45%\n",
      "\n",
      "Model 0523-0058 accuracy: 58.82%\n",
      "\n",
      "\n"
     ]
    }
   ],
   "source": [
    "models = ['0521-2327', '0523-0058']\n",
    "average_accuracy, all_accuracies, all_predictions = run_inference(test_data, models)"
   ]
  },
  {
   "cell_type": "markdown",
   "metadata": {},
   "source": [
    "### Train Model"
   ]
  },
  {
   "cell_type": "code",
   "execution_count": 2,
   "metadata": {},
   "outputs": [
    {
     "name": "stdout",
     "output_type": "stream",
     "text": [
      "Training model 1\n",
      "\n",
      "batch 0 loss: 0.7065966129302979\n",
      "batch 10 loss: 0.695998571135781\n",
      "batch 20 loss: 0.6937340696652731\n",
      "batch 30 loss: 0.6930303150607694\n",
      "batch 40 loss: 0.6930702139691609\n",
      "batch 50 loss: 0.693087635087032\n",
      "batch 60 loss: 0.6929757223754632\n",
      "batch 70 loss: 0.6931620382926833\n",
      "batch 80 loss: 0.6926976177427504\n",
      "batch 90 loss: 0.6928153136274317\n",
      "batch 100 loss: 0.6929245366908536\n",
      "batch 110 loss: 0.6930309582400966\n",
      "batch 120 loss: 0.6927941732170168\n",
      "batch 130 loss: 0.6926775788532868\n",
      "batch 140 loss: 0.692901130263687\n",
      "batch 150 loss: 0.6928652970996124\n",
      "batch 160 loss: 0.6927456418920007\n",
      "validation loss: 0.6927163849274317\n",
      "\n",
      "\n",
      "Training model 2\n",
      "\n",
      "batch 0 loss: 0.6886252760887146\n",
      "batch 10 loss: 0.6958080421794545\n",
      "batch 20 loss: 0.6949298239889599\n",
      "batch 30 loss: 0.6951752478076566\n",
      "batch 40 loss: 0.6947118000286382\n",
      "batch 50 loss: 0.6944225103247399\n",
      "batch 60 loss: 0.6942555787133389\n",
      "batch 70 loss: 0.6942825997379464\n",
      "batch 80 loss: 0.6940447077339078\n",
      "batch 90 loss: 0.6940271101155124\n",
      "batch 100 loss: 0.6937479506624807\n",
      "batch 110 loss: 0.6932885437398344\n",
      "batch 120 loss: 0.6921701524868484\n",
      "batch 130 loss: 0.6913814863175837\n",
      "batch 140 loss: 0.6910778009299691\n",
      "batch 150 loss: 0.6899989424951819\n",
      "batch 160 loss: 0.6892528289593525\n",
      "validation loss: 0.6789258794906812\n",
      "\n",
      "\n",
      "\n",
      "Model 0523-0138\n",
      "\n",
      "{'batch_size': 100,\n",
      " 'hidden_size': 10,\n",
      " 'learning_rate': 0.01,\n",
      " 'num_epochs': 1,\n",
      " 'num_stacked_layers': 1}\n",
      "\n",
      "\n",
      "trial 1 accuracy: 58.55%\n",
      "trial 2 accuracy: 51.55%\n",
      "trial 3 accuracy: 53.64%\n",
      "trial 4 accuracy: 49.53%\n",
      "trial 5 accuracy: 54.20%\n",
      "trial 6 accuracy: 49.33%\n",
      "trial 7 accuracy: 50.45%\n",
      "trial 8 accuracy: 52.12%\n",
      "trial 9 accuracy: 61.49%\n",
      "\n",
      "Model 0523-0139 accuracy: 53.43%\n",
      "\n",
      "\n",
      "Model 0523-0139\n",
      "\n",
      "{'batch_size': 100,\n",
      " 'hidden_size': 10,\n",
      " 'learning_rate': 0.01,\n",
      " 'num_epochs': 1,\n",
      " 'num_stacked_layers': 1}\n",
      "\n",
      "\n",
      "trial 1 accuracy: 53.89%\n",
      "trial 2 accuracy: 48.06%\n",
      "trial 3 accuracy: 59.00%\n",
      "trial 4 accuracy: 63.21%\n",
      "trial 5 accuracy: 66.43%\n",
      "trial 6 accuracy: 66.37%\n",
      "trial 7 accuracy: 59.38%\n",
      "trial 8 accuracy: 53.28%\n",
      "trial 9 accuracy: 58.11%\n",
      "\n",
      "Model 0523-0139 accuracy: 58.64%\n",
      "\n"
     ]
    }
   ],
   "source": [
    "models = train(2)\n"
   ]
  },
  {
   "cell_type": "code",
   "execution_count": null,
   "metadata": {},
   "outputs": [],
   "source": []
  }
 ],
 "metadata": {
  "kernelspec": {
   "display_name": "base",
   "language": "python",
   "name": "python3"
  },
  "language_info": {
   "codemirror_mode": {
    "name": "ipython",
    "version": 3
   },
   "file_extension": ".py",
   "mimetype": "text/x-python",
   "name": "python",
   "nbconvert_exporter": "python",
   "pygments_lexer": "ipython3",
   "version": "3.9.12"
  }
 },
 "nbformat": 4,
 "nbformat_minor": 2
}
